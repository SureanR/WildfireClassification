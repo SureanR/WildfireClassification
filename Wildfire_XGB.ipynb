{
 "cells": [
  {
   "cell_type": "code",
   "execution_count": 1,
   "metadata": {},
   "outputs": [],
   "source": [
    "#Load Libraries\n",
    "import pandas as pd\n",
    "import sqlite3 as sqlite3\n",
    "import numpy as np\n",
    "from matplotlib import pyplot as plt\n",
    "from sklearn.model_selection import train_test_split, GridSearchCV, KFold\n",
    "from sklearn.preprocessing import StandardScaler, OneHotEncoder, LabelEncoder\n",
    "from sklearn.metrics import accuracy_score\n",
    "from imblearn.under_sampling import RandomUnderSampler\n",
    "from imblearn.over_sampling import RandomOverSampler\n",
    "from imblearn.over_sampling import SMOTE\n",
    "from sklearn.experimental import enable_iterative_imputer \n",
    "from sklearn.impute import IterativeImputer # MICE Imputation\n",
    "import pickle\n",
    "from xgboost import XGBClassifier\n",
    "import xgboost as xgb"
   ]
  },
  {
   "cell_type": "markdown",
   "metadata": {},
   "source": [
    "## Test using SMOTE dataset (20 Apr 2023)"
   ]
  },
  {
   "cell_type": "code",
   "execution_count": 2,
   "metadata": {},
   "outputs": [],
   "source": [
    "# Refer to previous code for SMOTE implementation\n",
    "# SMOTE is only applied to train and then saved as csv to avoid recomputing\n",
    "train_impute_df = pd.read_csv(\"data/SMOTE_training_data.csv\")\n",
    "test_impute_df = pd.read_csv(\"data/testing_data_v2.csv\")"
   ]
  },
  {
   "cell_type": "code",
   "execution_count": 3,
   "metadata": {},
   "outputs": [
    {
     "name": "stdout",
     "output_type": "stream",
     "text": [
      "<class 'pandas.core.frame.DataFrame'>\n",
      "RangeIndex: 4241600 entries, 0 to 4241599\n",
      "Data columns (total 10 columns):\n",
      " #   Column                 Dtype  \n",
      "---  ------                 -----  \n",
      " 0   NWCG_REPORTING_AGENCY  object \n",
      " 1   CONT_DUR               float64\n",
      " 2   LONGITUDE              float64\n",
      " 3   LATITUDE               float64\n",
      " 4   OWNER_CODE             float64\n",
      " 5   SOURCE_SYSTEM_TYPE     object \n",
      " 6   DISCOVERY_DATE         float64\n",
      " 7   DISCOVERY_DOY          int64  \n",
      " 8   FIRE_SIZE              float64\n",
      " 9   STAT_CAUSE_DESCR       object \n",
      "dtypes: float64(6), int64(1), object(3)\n",
      "memory usage: 323.6+ MB\n"
     ]
    }
   ],
   "source": [
    "train_impute_df.info()"
   ]
  },
  {
   "cell_type": "code",
   "execution_count": 4,
   "metadata": {},
   "outputs": [
    {
     "name": "stdout",
     "output_type": "stream",
     "text": [
      "<class 'pandas.core.frame.DataFrame'>\n",
      "RangeIndex: 138576 entries, 0 to 138575\n",
      "Data columns (total 10 columns):\n",
      " #   Column                 Non-Null Count   Dtype  \n",
      "---  ------                 --------------   -----  \n",
      " 0   NWCG_REPORTING_AGENCY  138576 non-null  object \n",
      " 1   CONT_DUR               138576 non-null  float64\n",
      " 2   LONGITUDE              138576 non-null  float64\n",
      " 3   LATITUDE               138576 non-null  float64\n",
      " 4   OWNER_CODE             138576 non-null  float64\n",
      " 5   SOURCE_SYSTEM_TYPE     138576 non-null  object \n",
      " 6   DISCOVERY_DATE         138576 non-null  float64\n",
      " 7   DISCOVERY_DOY          138576 non-null  int64  \n",
      " 8   FIRE_SIZE              138576 non-null  float64\n",
      " 9   STAT_CAUSE_DESCR       138576 non-null  object \n",
      "dtypes: float64(6), int64(1), object(3)\n",
      "memory usage: 10.6+ MB\n"
     ]
    }
   ],
   "source": [
    "test_impute_df.info()"
   ]
  },
  {
   "cell_type": "code",
   "execution_count": 5,
   "metadata": {},
   "outputs": [
    {
     "data": {
      "text/plain": [
       "<AxesSubplot:>"
      ]
     },
     "execution_count": 5,
     "metadata": {},
     "output_type": "execute_result"
    },
    {
     "data": {
      "image/png": "[encoded data removed]",
      "text/plain": [
       "<Figure size 432x288 with 1 Axes>"
      ]
     },
     "metadata": {
      "needs_background": "light"
     },
     "output_type": "display_data"
    }
   ],
   "source": [
    "train_impute_df['STAT_CAUSE_DESCR'].value_counts().plot.bar()"
   ]
  },
  {
   "cell_type": "markdown",
   "metadata": {},
   "source": [
    "### Random Under/Over Sampling to balance dataset\n",
    "Dataset is made smaller for hyperparameter search due to computational and time restrictions"
   ]
  },
  {
   "cell_type": "code",
   "execution_count": 6,
   "metadata": {},
   "outputs": [],
   "source": [
    "# set up train and test spilt between x and y\n",
    "xTrain = train_impute_df.drop([\"STAT_CAUSE_DESCR\"], axis = 1)\n",
    "xTest = test_impute_df.drop([\"STAT_CAUSE_DESCR\"], axis = 1)\n",
    "yTrain = train_impute_df[\"STAT_CAUSE_DESCR\"]\n",
    "yTest = test_impute_df[\"STAT_CAUSE_DESCR\"]"
   ]
  },
  {
   "cell_type": "code",
   "execution_count": 7,
   "metadata": {},
   "outputs": [],
   "source": [
    "#Global variable necessary for function\n",
    "counts = yTrain.value_counts()\n",
    "\n",
    "#Change count accordingly for your model\n",
    "def count_over(colname, count=110000):\n",
    "    if counts[colname] > count:\n",
    "        return count\n",
    "    return counts[colname]\n",
    "\n",
    "#Perform undersampling\n",
    "UnderSampleRatio = {\n",
    "    'Lightning' : count_over('Lightning'), 'Debris Burning' : count_over('Debris Burning'), 'Campfire' : count_over('Campfire'), \n",
    "    'Equipment Use' : count_over('Equipment Use'),    \n",
    "    'Arson' : count_over('Arson'), 'Children' : count_over('Children'), 'Railroad' : count_over('Railroad'),\n",
    "    'Smoking' : count_over('Smoking'), 'Powerline' : count_over('Powerline'),\n",
    "    'Fireworks' : count_over('Fireworks'), 'Structure' : count_over('Structure')\n",
    "}\n",
    "\n",
    "newSampStrat=RandomUnderSampler(sampling_strategy=UnderSampleRatio,random_state=441) #Goal balance all classes\n",
    "xTrain,yTrain=newSampStrat.fit_resample(xTrain,yTrain) #perform the balancing newX and newY are balanced X and y"
   ]
  },
  {
   "cell_type": "code",
   "execution_count": 8,
   "metadata": {},
   "outputs": [
    {
     "data": {
      "text/plain": [
       "Equipment Use     110000\n",
       "Debris Burning    110000\n",
       "Powerline         110000\n",
       "Arson             110000\n",
       "Fireworks         110000\n",
       "Children          110000\n",
       "Lightning         110000\n",
       "Smoking           110000\n",
       "Campfire          110000\n",
       "Structure         110000\n",
       "Railroad          110000\n",
       "Name: STAT_CAUSE_DESCR, dtype: int64"
      ]
     },
     "execution_count": 8,
     "metadata": {},
     "output_type": "execute_result"
    }
   ],
   "source": [
    "counts = yTrain.value_counts()\n",
    "counts"
   ]
  },
  {
   "cell_type": "code",
   "execution_count": 9,
   "metadata": {},
   "outputs": [
    {
     "data": {
      "text/plain": [
       "<AxesSubplot:>"
      ]
     },
     "execution_count": 9,
     "metadata": {},
     "output_type": "execute_result"
    },
    {
     "data": {
      "image/png": "[encoded data removed]",
      "text/plain": [
       "<Figure size 432x288 with 1 Axes>"
      ]
     },
     "metadata": {
      "needs_background": "light"
     },
     "output_type": "display_data"
    }
   ],
   "source": [
    "from imblearn.under_sampling import RandomUnderSampler\n",
    "\n",
    "\n",
    "newSampStrat=RandomUnderSampler(sampling_strategy='not minority',random_state=441) #Goal balance all classes\n",
    "xTrain,yTrain=newSampStrat.fit_resample(xTrain,yTrain) #perform the balancing newX and newY are balanced X and y\n",
    "yTrain.value_counts().plot.bar() "
   ]
  },
  {
   "cell_type": "code",
   "execution_count": 10,
   "metadata": {},
   "outputs": [
    {
     "data": {
      "text/plain": [
       "Equipment Use     110000\n",
       "Debris Burning    110000\n",
       "Powerline         110000\n",
       "Arson             110000\n",
       "Fireworks         110000\n",
       "Children          110000\n",
       "Lightning         110000\n",
       "Smoking           110000\n",
       "Campfire          110000\n",
       "Structure         110000\n",
       "Railroad          110000\n",
       "Name: STAT_CAUSE_DESCR, dtype: int64"
      ]
     },
     "execution_count": 10,
     "metadata": {},
     "output_type": "execute_result"
    }
   ],
   "source": [
    "yTrain.value_counts()"
   ]
  },
  {
   "cell_type": "markdown",
   "metadata": {},
   "source": [
    "### Feature Engineering"
   ]
  },
  {
   "cell_type": "code",
   "execution_count": 11,
   "metadata": {},
   "outputs": [
    {
     "name": "stdout",
     "output_type": "stream",
     "text": [
      "<class 'pandas.core.frame.DataFrame'>\n",
      "RangeIndex: 4241600 entries, 0 to 4241599\n",
      "Data columns (total 10 columns):\n",
      " #   Column                 Dtype  \n",
      "---  ------                 -----  \n",
      " 0   NWCG_REPORTING_AGENCY  object \n",
      " 1   CONT_DUR               float64\n",
      " 2   LONGITUDE              float64\n",
      " 3   LATITUDE               float64\n",
      " 4   OWNER_CODE             float64\n",
      " 5   SOURCE_SYSTEM_TYPE     object \n",
      " 6   DISCOVERY_DATE         float64\n",
      " 7   DISCOVERY_DOY          int64  \n",
      " 8   FIRE_SIZE              float64\n",
      " 9   STAT_CAUSE_DESCR       object \n",
      "dtypes: float64(6), int64(1), object(3)\n",
      "memory usage: 323.6+ MB\n"
     ]
    }
   ],
   "source": [
    "train_impute_df.info()"
   ]
  },
  {
   "cell_type": "code",
   "execution_count": 12,
   "metadata": {},
   "outputs": [],
   "source": [
    "#list for cols to scale\n",
    "cols_to_scale = ['CONT_DUR','LONGITUDE', 'LATITUDE', 'DISCOVERY_DATE', 'DISCOVERY_DOY', \"FIRE_SIZE\"]\n",
    "\n",
    "#create and fit scaler\n",
    "scaler = StandardScaler()\n",
    "scaler.fit(xTrain[cols_to_scale])\n",
    "\n",
    "#scale selected data\n",
    "xTrain[cols_to_scale] = scaler.transform(xTrain[cols_to_scale])\n",
    "xTest[cols_to_scale] = scaler.transform(xTest[cols_to_scale])"
   ]
  },
  {
   "cell_type": "code",
   "execution_count": 13,
   "metadata": {},
   "outputs": [
    {
     "data": {
      "text/html": [
       "<div>\n",
       "<style scoped>\n",
       "    .dataframe tbody tr th:only-of-type {\n",
       "        vertical-align: middle;\n",
       "    }\n",
       "\n",
       "    .dataframe tbody tr th {\n",
       "        vertical-align: top;\n",
       "    }\n",
       "\n",
       "    .dataframe thead th {\n",
       "        text-align: right;\n",
       "    }\n",
       "</style>\n",
       "<table border=\"1\" class=\"dataframe\">\n",
       "  <thead>\n",
       "    <tr style=\"text-align: right;\">\n",
       "      <th></th>\n",
       "      <th>NWCG_REPORTING_AGENCY</th>\n",
       "      <th>CONT_DUR</th>\n",
       "      <th>LONGITUDE</th>\n",
       "      <th>LATITUDE</th>\n",
       "      <th>OWNER_CODE</th>\n",
       "      <th>SOURCE_SYSTEM_TYPE</th>\n",
       "      <th>DISCOVERY_DATE</th>\n",
       "      <th>DISCOVERY_DOY</th>\n",
       "      <th>FIRE_SIZE</th>\n",
       "    </tr>\n",
       "  </thead>\n",
       "  <tbody>\n",
       "    <tr>\n",
       "      <th>0</th>\n",
       "      <td>BIA</td>\n",
       "      <td>-0.089263</td>\n",
       "      <td>-0.197532</td>\n",
       "      <td>1.673047</td>\n",
       "      <td>2.0</td>\n",
       "      <td>FED</td>\n",
       "      <td>0.730599</td>\n",
       "      <td>-0.518719</td>\n",
       "      <td>-0.031374</td>\n",
       "    </tr>\n",
       "    <tr>\n",
       "      <th>1</th>\n",
       "      <td>ST/C&amp;L</td>\n",
       "      <td>-0.070063</td>\n",
       "      <td>0.761916</td>\n",
       "      <td>-0.682502</td>\n",
       "      <td>14.0</td>\n",
       "      <td>NONFED</td>\n",
       "      <td>-0.001227</td>\n",
       "      <td>-0.565107</td>\n",
       "      <td>-0.031266</td>\n",
       "    </tr>\n",
       "    <tr>\n",
       "      <th>2</th>\n",
       "      <td>ST/C&amp;L</td>\n",
       "      <td>0.133095</td>\n",
       "      <td>0.080135</td>\n",
       "      <td>0.316468</td>\n",
       "      <td>14.0</td>\n",
       "      <td>NONFED</td>\n",
       "      <td>0.881776</td>\n",
       "      <td>-0.367959</td>\n",
       "      <td>0.014048</td>\n",
       "    </tr>\n",
       "    <tr>\n",
       "      <th>3</th>\n",
       "      <td>ST/C&amp;L</td>\n",
       "      <td>-0.089263</td>\n",
       "      <td>0.453091</td>\n",
       "      <td>-1.167113</td>\n",
       "      <td>14.0</td>\n",
       "      <td>NONFED</td>\n",
       "      <td>-1.084378</td>\n",
       "      <td>1.893442</td>\n",
       "      <td>-0.030875</td>\n",
       "    </tr>\n",
       "    <tr>\n",
       "      <th>4</th>\n",
       "      <td>ST/C&amp;L</td>\n",
       "      <td>-0.089263</td>\n",
       "      <td>0.877260</td>\n",
       "      <td>-0.387324</td>\n",
       "      <td>8.0</td>\n",
       "      <td>NONFED</td>\n",
       "      <td>1.134541</td>\n",
       "      <td>-1.504458</td>\n",
       "      <td>-0.031303</td>\n",
       "    </tr>\n",
       "    <tr>\n",
       "      <th>...</th>\n",
       "      <td>...</td>\n",
       "      <td>...</td>\n",
       "      <td>...</td>\n",
       "      <td>...</td>\n",
       "      <td>...</td>\n",
       "      <td>...</td>\n",
       "      <td>...</td>\n",
       "      <td>...</td>\n",
       "      <td>...</td>\n",
       "    </tr>\n",
       "    <tr>\n",
       "      <th>1209995</th>\n",
       "      <td>ST/C&amp;L</td>\n",
       "      <td>-0.069981</td>\n",
       "      <td>0.267840</td>\n",
       "      <td>0.578480</td>\n",
       "      <td>8.0</td>\n",
       "      <td>FED</td>\n",
       "      <td>-1.755056</td>\n",
       "      <td>-0.634688</td>\n",
       "      <td>-0.031131</td>\n",
       "    </tr>\n",
       "    <tr>\n",
       "      <th>1209996</th>\n",
       "      <td>BIA</td>\n",
       "      <td>-0.089263</td>\n",
       "      <td>-0.413671</td>\n",
       "      <td>0.292435</td>\n",
       "      <td>2.0</td>\n",
       "      <td>FED</td>\n",
       "      <td>-1.157244</td>\n",
       "      <td>-0.228796</td>\n",
       "      <td>-0.031374</td>\n",
       "    </tr>\n",
       "    <tr>\n",
       "      <th>1209997</th>\n",
       "      <td>ST/C&amp;L</td>\n",
       "      <td>-0.089263</td>\n",
       "      <td>0.725839</td>\n",
       "      <td>-0.958278</td>\n",
       "      <td>14.0</td>\n",
       "      <td>NONFED</td>\n",
       "      <td>0.963088</td>\n",
       "      <td>1.986217</td>\n",
       "      <td>-0.031245</td>\n",
       "    </tr>\n",
       "    <tr>\n",
       "      <th>1209998</th>\n",
       "      <td>ST/C&amp;L</td>\n",
       "      <td>0.041212</td>\n",
       "      <td>0.584678</td>\n",
       "      <td>0.731509</td>\n",
       "      <td>8.0</td>\n",
       "      <td>NONFED</td>\n",
       "      <td>-0.710725</td>\n",
       "      <td>0.014739</td>\n",
       "      <td>-0.031317</td>\n",
       "    </tr>\n",
       "    <tr>\n",
       "      <th>1209999</th>\n",
       "      <td>ST/C&amp;L</td>\n",
       "      <td>-0.089263</td>\n",
       "      <td>0.647766</td>\n",
       "      <td>-0.743594</td>\n",
       "      <td>14.0</td>\n",
       "      <td>NONFED</td>\n",
       "      <td>0.931887</td>\n",
       "      <td>1.081657</td>\n",
       "      <td>-0.029065</td>\n",
       "    </tr>\n",
       "  </tbody>\n",
       "</table>\n",
       "<p>1210000 rows × 9 columns</p>\n",
       "</div>"
      ],
      "text/plain": [
       "        NWCG_REPORTING_AGENCY  CONT_DUR  LONGITUDE  LATITUDE  OWNER_CODE  \\\n",
       "0                         BIA -0.089263  -0.197532  1.673047         2.0   \n",
       "1                      ST/C&L -0.070063   0.761916 -0.682502        14.0   \n",
       "2                      ST/C&L  0.133095   0.080135  0.316468        14.0   \n",
       "3                      ST/C&L -0.089263   0.453091 -1.167113        14.0   \n",
       "4                      ST/C&L -0.089263   0.877260 -0.387324         8.0   \n",
       "...                       ...       ...        ...       ...         ...   \n",
       "1209995                ST/C&L -0.069981   0.267840  0.578480         8.0   \n",
       "1209996                   BIA -0.089263  -0.413671  0.292435         2.0   \n",
       "1209997                ST/C&L -0.089263   0.725839 -0.958278        14.0   \n",
       "1209998                ST/C&L  0.041212   0.584678  0.731509         8.0   \n",
       "1209999                ST/C&L -0.089263   0.647766 -0.743594        14.0   \n",
       "\n",
       "        SOURCE_SYSTEM_TYPE  DISCOVERY_DATE  DISCOVERY_DOY  FIRE_SIZE  \n",
       "0                      FED        0.730599      -0.518719  -0.031374  \n",
       "1                   NONFED       -0.001227      -0.565107  -0.031266  \n",
       "2                   NONFED        0.881776      -0.367959   0.014048  \n",
       "3                   NONFED       -1.084378       1.893442  -0.030875  \n",
       "4                   NONFED        1.134541      -1.504458  -0.031303  \n",
       "...                    ...             ...            ...        ...  \n",
       "1209995                FED       -1.755056      -0.634688  -0.031131  \n",
       "1209996                FED       -1.157244      -0.228796  -0.031374  \n",
       "1209997             NONFED        0.963088       1.986217  -0.031245  \n",
       "1209998             NONFED       -0.710725       0.014739  -0.031317  \n",
       "1209999             NONFED        0.931887       1.081657  -0.029065  \n",
       "\n",
       "[1210000 rows x 9 columns]"
      ]
     },
     "execution_count": 13,
     "metadata": {},
     "output_type": "execute_result"
    }
   ],
   "source": [
    "xTrain"
   ]
  },
  {
   "cell_type": "code",
   "execution_count": 14,
   "metadata": {},
   "outputs": [
    {
     "name": "stdout",
     "output_type": "stream",
     "text": [
      "<class 'pandas.core.frame.DataFrame'>\n",
      "RangeIndex: 1210000 entries, 0 to 1209999\n",
      "Data columns (total 34 columns):\n",
      " #   Column                        Non-Null Count    Dtype  \n",
      "---  ------                        --------------    -----  \n",
      " 0   CONT_DUR                      1210000 non-null  float64\n",
      " 1   LONGITUDE                     1210000 non-null  float64\n",
      " 2   LATITUDE                      1210000 non-null  float64\n",
      " 3   DISCOVERY_DATE                1210000 non-null  float64\n",
      " 4   DISCOVERY_DOY                 1210000 non-null  float64\n",
      " 5   FIRE_SIZE                     1210000 non-null  float64\n",
      " 6   NWCG_REPORTING_AGENCY_BIA     1210000 non-null  uint8  \n",
      " 7   NWCG_REPORTING_AGENCY_BLM     1210000 non-null  uint8  \n",
      " 8   NWCG_REPORTING_AGENCY_BOR     1210000 non-null  uint8  \n",
      " 9   NWCG_REPORTING_AGENCY_FS      1210000 non-null  uint8  \n",
      " 10  NWCG_REPORTING_AGENCY_FWS     1210000 non-null  uint8  \n",
      " 11  NWCG_REPORTING_AGENCY_IA      1210000 non-null  uint8  \n",
      " 12  NWCG_REPORTING_AGENCY_NPS     1210000 non-null  uint8  \n",
      " 13  NWCG_REPORTING_AGENCY_ST/C&L  1210000 non-null  uint8  \n",
      " 14  NWCG_REPORTING_AGENCY_TRIBE   1210000 non-null  uint8  \n",
      " 15  OWNER_CODE_0.0                1210000 non-null  uint8  \n",
      " 16  OWNER_CODE_1.0                1210000 non-null  uint8  \n",
      " 17  OWNER_CODE_2.0                1210000 non-null  uint8  \n",
      " 18  OWNER_CODE_3.0                1210000 non-null  uint8  \n",
      " 19  OWNER_CODE_4.0                1210000 non-null  uint8  \n",
      " 20  OWNER_CODE_5.0                1210000 non-null  uint8  \n",
      " 21  OWNER_CODE_6.0                1210000 non-null  uint8  \n",
      " 22  OWNER_CODE_7.0                1210000 non-null  uint8  \n",
      " 23  OWNER_CODE_8.0                1210000 non-null  uint8  \n",
      " 24  OWNER_CODE_9.0                1210000 non-null  uint8  \n",
      " 25  OWNER_CODE_10.0               1210000 non-null  uint8  \n",
      " 26  OWNER_CODE_11.0               1210000 non-null  uint8  \n",
      " 27  OWNER_CODE_12.0               1210000 non-null  uint8  \n",
      " 28  OWNER_CODE_13.0               1210000 non-null  uint8  \n",
      " 29  OWNER_CODE_14.0               1210000 non-null  uint8  \n",
      " 30  OWNER_CODE_15.0               1210000 non-null  uint8  \n",
      " 31  SOURCE_SYSTEM_TYPE_FED        1210000 non-null  uint8  \n",
      " 32  SOURCE_SYSTEM_TYPE_INTERAGCY  1210000 non-null  uint8  \n",
      " 33  SOURCE_SYSTEM_TYPE_NONFED     1210000 non-null  uint8  \n",
      "dtypes: float64(6), uint8(28)\n",
      "memory usage: 87.7 MB\n"
     ]
    }
   ],
   "source": [
    "# OHE for categorical variables\n",
    "xTrain_model = pd.get_dummies(xTrain, columns = [\"NWCG_REPORTING_AGENCY\", \"OWNER_CODE\", \"SOURCE_SYSTEM_TYPE\"])\n",
    "xTrain_model.info()"
   ]
  },
  {
   "cell_type": "code",
   "execution_count": 15,
   "metadata": {},
   "outputs": [
    {
     "name": "stdout",
     "output_type": "stream",
     "text": [
      "<class 'pandas.core.frame.DataFrame'>\n",
      "RangeIndex: 138576 entries, 0 to 138575\n",
      "Data columns (total 33 columns):\n",
      " #   Column                        Non-Null Count   Dtype  \n",
      "---  ------                        --------------   -----  \n",
      " 0   CONT_DUR                      138576 non-null  float64\n",
      " 1   LONGITUDE                     138576 non-null  float64\n",
      " 2   LATITUDE                      138576 non-null  float64\n",
      " 3   DISCOVERY_DATE                138576 non-null  float64\n",
      " 4   DISCOVERY_DOY                 138576 non-null  float64\n",
      " 5   FIRE_SIZE                     138576 non-null  float64\n",
      " 6   NWCG_REPORTING_AGENCY_BIA     138576 non-null  uint8  \n",
      " 7   NWCG_REPORTING_AGENCY_BLM     138576 non-null  uint8  \n",
      " 8   NWCG_REPORTING_AGENCY_DOD     138576 non-null  uint8  \n",
      " 9   NWCG_REPORTING_AGENCY_FS      138576 non-null  uint8  \n",
      " 10  NWCG_REPORTING_AGENCY_FWS     138576 non-null  uint8  \n",
      " 11  NWCG_REPORTING_AGENCY_IA      138576 non-null  uint8  \n",
      " 12  NWCG_REPORTING_AGENCY_NPS     138576 non-null  uint8  \n",
      " 13  NWCG_REPORTING_AGENCY_ST/C&L  138576 non-null  uint8  \n",
      " 14  NWCG_REPORTING_AGENCY_TRIBE   138576 non-null  uint8  \n",
      " 15  OWNER_CODE_1.0                138576 non-null  uint8  \n",
      " 16  OWNER_CODE_2.0                138576 non-null  uint8  \n",
      " 17  OWNER_CODE_3.0                138576 non-null  uint8  \n",
      " 18  OWNER_CODE_4.0                138576 non-null  uint8  \n",
      " 19  OWNER_CODE_5.0                138576 non-null  uint8  \n",
      " 20  OWNER_CODE_6.0                138576 non-null  uint8  \n",
      " 21  OWNER_CODE_7.0                138576 non-null  uint8  \n",
      " 22  OWNER_CODE_8.0                138576 non-null  uint8  \n",
      " 23  OWNER_CODE_9.0                138576 non-null  uint8  \n",
      " 24  OWNER_CODE_10.0               138576 non-null  uint8  \n",
      " 25  OWNER_CODE_11.0               138576 non-null  uint8  \n",
      " 26  OWNER_CODE_12.0               138576 non-null  uint8  \n",
      " 27  OWNER_CODE_13.0               138576 non-null  uint8  \n",
      " 28  OWNER_CODE_14.0               138576 non-null  uint8  \n",
      " 29  OWNER_CODE_15.0               138576 non-null  uint8  \n",
      " 30  SOURCE_SYSTEM_TYPE_FED        138576 non-null  uint8  \n",
      " 31  SOURCE_SYSTEM_TYPE_INTERAGCY  138576 non-null  uint8  \n",
      " 32  SOURCE_SYSTEM_TYPE_NONFED     138576 non-null  uint8  \n",
      "dtypes: float64(6), uint8(27)\n",
      "memory usage: 9.9 MB\n"
     ]
    }
   ],
   "source": [
    "xTest_model = pd.get_dummies(xTest, columns = [\"NWCG_REPORTING_AGENCY\", \"OWNER_CODE\", \"SOURCE_SYSTEM_TYPE\"])\n",
    "xTest_model.info()"
   ]
  },
  {
   "cell_type": "code",
   "execution_count": 16,
   "metadata": {},
   "outputs": [
    {
     "name": "stdout",
     "output_type": "stream",
     "text": [
      "<class 'pandas.core.frame.DataFrame'>\n",
      "RangeIndex: 138576 entries, 0 to 138575\n",
      "Data columns (total 32 columns):\n",
      " #   Column                        Non-Null Count   Dtype  \n",
      "---  ------                        --------------   -----  \n",
      " 0   CONT_DUR                      138576 non-null  float64\n",
      " 1   LONGITUDE                     138576 non-null  float64\n",
      " 2   LATITUDE                      138576 non-null  float64\n",
      " 3   DISCOVERY_DATE                138576 non-null  float64\n",
      " 4   DISCOVERY_DOY                 138576 non-null  float64\n",
      " 5   FIRE_SIZE                     138576 non-null  float64\n",
      " 6   NWCG_REPORTING_AGENCY_BIA     138576 non-null  uint8  \n",
      " 7   NWCG_REPORTING_AGENCY_BLM     138576 non-null  uint8  \n",
      " 8   NWCG_REPORTING_AGENCY_FS      138576 non-null  uint8  \n",
      " 9   NWCG_REPORTING_AGENCY_FWS     138576 non-null  uint8  \n",
      " 10  NWCG_REPORTING_AGENCY_IA      138576 non-null  uint8  \n",
      " 11  NWCG_REPORTING_AGENCY_NPS     138576 non-null  uint8  \n",
      " 12  NWCG_REPORTING_AGENCY_ST/C&L  138576 non-null  uint8  \n",
      " 13  NWCG_REPORTING_AGENCY_TRIBE   138576 non-null  uint8  \n",
      " 14  OWNER_CODE_1.0                138576 non-null  uint8  \n",
      " 15  OWNER_CODE_2.0                138576 non-null  uint8  \n",
      " 16  OWNER_CODE_3.0                138576 non-null  uint8  \n",
      " 17  OWNER_CODE_4.0                138576 non-null  uint8  \n",
      " 18  OWNER_CODE_5.0                138576 non-null  uint8  \n",
      " 19  OWNER_CODE_6.0                138576 non-null  uint8  \n",
      " 20  OWNER_CODE_7.0                138576 non-null  uint8  \n",
      " 21  OWNER_CODE_8.0                138576 non-null  uint8  \n",
      " 22  OWNER_CODE_9.0                138576 non-null  uint8  \n",
      " 23  OWNER_CODE_10.0               138576 non-null  uint8  \n",
      " 24  OWNER_CODE_11.0               138576 non-null  uint8  \n",
      " 25  OWNER_CODE_12.0               138576 non-null  uint8  \n",
      " 26  OWNER_CODE_13.0               138576 non-null  uint8  \n",
      " 27  OWNER_CODE_14.0               138576 non-null  uint8  \n",
      " 28  OWNER_CODE_15.0               138576 non-null  uint8  \n",
      " 29  SOURCE_SYSTEM_TYPE_FED        138576 non-null  uint8  \n",
      " 30  SOURCE_SYSTEM_TYPE_INTERAGCY  138576 non-null  uint8  \n",
      " 31  SOURCE_SYSTEM_TYPE_NONFED     138576 non-null  uint8  \n",
      "dtypes: float64(6), uint8(26)\n",
      "memory usage: 9.8 MB\n"
     ]
    }
   ],
   "source": [
    "# keeping only same columns as xTrain\n",
    "cols_to_keep = [col for col in xTest_model.columns if col in xTrain_model.columns]\n",
    "xTest_model = xTest_model[cols_to_keep]\n",
    "xTest_model.info()"
   ]
  },
  {
   "cell_type": "code",
   "execution_count": 17,
   "metadata": {},
   "outputs": [
    {
     "name": "stdout",
     "output_type": "stream",
     "text": [
      "<class 'pandas.core.frame.DataFrame'>\n",
      "RangeIndex: 1210000 entries, 0 to 1209999\n",
      "Data columns (total 34 columns):\n",
      " #   Column                        Non-Null Count    Dtype  \n",
      "---  ------                        --------------    -----  \n",
      " 0   CONT_DUR                      1210000 non-null  float64\n",
      " 1   LONGITUDE                     1210000 non-null  float64\n",
      " 2   LATITUDE                      1210000 non-null  float64\n",
      " 3   DISCOVERY_DATE                1210000 non-null  float64\n",
      " 4   DISCOVERY_DOY                 1210000 non-null  float64\n",
      " 5   FIRE_SIZE                     1210000 non-null  float64\n",
      " 6   NWCG_REPORTING_AGENCY_BIA     1210000 non-null  uint8  \n",
      " 7   NWCG_REPORTING_AGENCY_BLM     1210000 non-null  uint8  \n",
      " 8   NWCG_REPORTING_AGENCY_BOR     1210000 non-null  uint8  \n",
      " 9   NWCG_REPORTING_AGENCY_FS      1210000 non-null  uint8  \n",
      " 10  NWCG_REPORTING_AGENCY_FWS     1210000 non-null  uint8  \n",
      " 11  NWCG_REPORTING_AGENCY_IA      1210000 non-null  uint8  \n",
      " 12  NWCG_REPORTING_AGENCY_NPS     1210000 non-null  uint8  \n",
      " 13  NWCG_REPORTING_AGENCY_ST/C&L  1210000 non-null  uint8  \n",
      " 14  NWCG_REPORTING_AGENCY_TRIBE   1210000 non-null  uint8  \n",
      " 15  OWNER_CODE_0.0                1210000 non-null  uint8  \n",
      " 16  OWNER_CODE_1.0                1210000 non-null  uint8  \n",
      " 17  OWNER_CODE_2.0                1210000 non-null  uint8  \n",
      " 18  OWNER_CODE_3.0                1210000 non-null  uint8  \n",
      " 19  OWNER_CODE_4.0                1210000 non-null  uint8  \n",
      " 20  OWNER_CODE_5.0                1210000 non-null  uint8  \n",
      " 21  OWNER_CODE_6.0                1210000 non-null  uint8  \n",
      " 22  OWNER_CODE_7.0                1210000 non-null  uint8  \n",
      " 23  OWNER_CODE_8.0                1210000 non-null  uint8  \n",
      " 24  OWNER_CODE_9.0                1210000 non-null  uint8  \n",
      " 25  OWNER_CODE_10.0               1210000 non-null  uint8  \n",
      " 26  OWNER_CODE_11.0               1210000 non-null  uint8  \n",
      " 27  OWNER_CODE_12.0               1210000 non-null  uint8  \n",
      " 28  OWNER_CODE_13.0               1210000 non-null  uint8  \n",
      " 29  OWNER_CODE_14.0               1210000 non-null  uint8  \n",
      " 30  OWNER_CODE_15.0               1210000 non-null  uint8  \n",
      " 31  SOURCE_SYSTEM_TYPE_FED        1210000 non-null  uint8  \n",
      " 32  SOURCE_SYSTEM_TYPE_INTERAGCY  1210000 non-null  uint8  \n",
      " 33  SOURCE_SYSTEM_TYPE_NONFED     1210000 non-null  uint8  \n",
      "dtypes: float64(6), uint8(28)\n",
      "memory usage: 87.7 MB\n"
     ]
    }
   ],
   "source": [
    "xTrain_model.info()"
   ]
  },
  {
   "cell_type": "code",
   "execution_count": 18,
   "metadata": {},
   "outputs": [
    {
     "data": {
      "text/plain": [
       "0         6\n",
       "1         4\n",
       "2         1\n",
       "3         0\n",
       "4         6\n",
       "         ..\n",
       "138571    6\n",
       "138572    0\n",
       "138573    3\n",
       "138574    3\n",
       "138575    3\n",
       "Length: 138576, dtype: int32"
      ]
     },
     "execution_count": 18,
     "metadata": {},
     "output_type": "execute_result"
    }
   ],
   "source": [
    "# Encode classes\n",
    "lc = LabelEncoder() \n",
    "\n",
    "lc_yTrain = lc.fit_transform(yTrain) \n",
    "lc_yTrain\n",
    "\n",
    "lc_yTest = lc.transform(yTest) \n",
    "lc_yTest = pd.Series(lc_yTest)\n",
    "lc_yTest\n"
   ]
  },
  {
   "cell_type": "markdown",
   "metadata": {},
   "source": [
    "### Model Training"
   ]
  },
  {
   "cell_type": "markdown",
   "metadata": {},
   "source": [
    "### Hyperparameter tuning using grid search on subset of data"
   ]
  },
  {
   "cell_type": "code",
   "execution_count": 19,
   "metadata": {},
   "outputs": [],
   "source": [
    "params = {\n",
    "        #'gamma': [0.3, 1],\n",
    "        'max_depth': [40, 100],\n",
    "       'learning_rate' : [0.01, 0.1, 0.9],\n",
    "        'random_state' : [441],\n",
    "        'reg_alpha' : [0.5, 0.8]\n",
    "        }\n"
   ]
  },
  {
   "cell_type": "code",
   "execution_count": 20,
   "metadata": {},
   "outputs": [
    {
     "data": {
      "text/html": [
       "<div>\n",
       "<style scoped>\n",
       "    .dataframe tbody tr th:only-of-type {\n",
       "        vertical-align: middle;\n",
       "    }\n",
       "\n",
       "    .dataframe tbody tr th {\n",
       "        vertical-align: top;\n",
       "    }\n",
       "\n",
       "    .dataframe thead th {\n",
       "        text-align: right;\n",
       "    }\n",
       "</style>\n",
       "<table border=\"1\" class=\"dataframe\">\n",
       "  <thead>\n",
       "    <tr style=\"text-align: right;\">\n",
       "      <th></th>\n",
       "      <th>CONT_DUR</th>\n",
       "      <th>LONGITUDE</th>\n",
       "      <th>LATITUDE</th>\n",
       "      <th>DISCOVERY_DATE</th>\n",
       "      <th>DISCOVERY_DOY</th>\n",
       "      <th>FIRE_SIZE</th>\n",
       "      <th>NWCG_REPORTING_AGENCY_BIA</th>\n",
       "      <th>NWCG_REPORTING_AGENCY_BLM</th>\n",
       "      <th>NWCG_REPORTING_AGENCY_FS</th>\n",
       "      <th>NWCG_REPORTING_AGENCY_FWS</th>\n",
       "      <th>...</th>\n",
       "      <th>OWNER_CODE_9.0</th>\n",
       "      <th>OWNER_CODE_10.0</th>\n",
       "      <th>OWNER_CODE_11.0</th>\n",
       "      <th>OWNER_CODE_12.0</th>\n",
       "      <th>OWNER_CODE_13.0</th>\n",
       "      <th>OWNER_CODE_14.0</th>\n",
       "      <th>OWNER_CODE_15.0</th>\n",
       "      <th>SOURCE_SYSTEM_TYPE_FED</th>\n",
       "      <th>SOURCE_SYSTEM_TYPE_INTERAGCY</th>\n",
       "      <th>SOURCE_SYSTEM_TYPE_NONFED</th>\n",
       "    </tr>\n",
       "  </thead>\n",
       "  <tbody>\n",
       "    <tr>\n",
       "      <th>0</th>\n",
       "      <td>-0.067644</td>\n",
       "      <td>-0.201154</td>\n",
       "      <td>1.680507</td>\n",
       "      <td>0.735248</td>\n",
       "      <td>-0.519947</td>\n",
       "      <td>-0.030292</td>\n",
       "      <td>1</td>\n",
       "      <td>0</td>\n",
       "      <td>0</td>\n",
       "      <td>0</td>\n",
       "      <td>...</td>\n",
       "      <td>0</td>\n",
       "      <td>0</td>\n",
       "      <td>0</td>\n",
       "      <td>0</td>\n",
       "      <td>0</td>\n",
       "      <td>0</td>\n",
       "      <td>0</td>\n",
       "      <td>1</td>\n",
       "      <td>0</td>\n",
       "      <td>0</td>\n",
       "    </tr>\n",
       "    <tr>\n",
       "      <th>1</th>\n",
       "      <td>-0.053280</td>\n",
       "      <td>0.760631</td>\n",
       "      <td>-0.679881</td>\n",
       "      <td>0.004034</td>\n",
       "      <td>-0.566323</td>\n",
       "      <td>-0.030186</td>\n",
       "      <td>0</td>\n",
       "      <td>0</td>\n",
       "      <td>0</td>\n",
       "      <td>0</td>\n",
       "      <td>...</td>\n",
       "      <td>0</td>\n",
       "      <td>0</td>\n",
       "      <td>0</td>\n",
       "      <td>0</td>\n",
       "      <td>0</td>\n",
       "      <td>1</td>\n",
       "      <td>0</td>\n",
       "      <td>0</td>\n",
       "      <td>0</td>\n",
       "      <td>1</td>\n",
       "    </tr>\n",
       "    <tr>\n",
       "      <th>2</th>\n",
       "      <td>0.098709</td>\n",
       "      <td>0.077188</td>\n",
       "      <td>0.321141</td>\n",
       "      <td>0.886298</td>\n",
       "      <td>-0.369227</td>\n",
       "      <td>0.014235</td>\n",
       "      <td>0</td>\n",
       "      <td>0</td>\n",
       "      <td>0</td>\n",
       "      <td>0</td>\n",
       "      <td>...</td>\n",
       "      <td>0</td>\n",
       "      <td>0</td>\n",
       "      <td>0</td>\n",
       "      <td>0</td>\n",
       "      <td>0</td>\n",
       "      <td>1</td>\n",
       "      <td>0</td>\n",
       "      <td>0</td>\n",
       "      <td>0</td>\n",
       "      <td>1</td>\n",
       "    </tr>\n",
       "    <tr>\n",
       "      <th>3</th>\n",
       "      <td>-0.067644</td>\n",
       "      <td>0.451054</td>\n",
       "      <td>-1.165487</td>\n",
       "      <td>-1.078212</td>\n",
       "      <td>1.891586</td>\n",
       "      <td>-0.029803</td>\n",
       "      <td>0</td>\n",
       "      <td>0</td>\n",
       "      <td>0</td>\n",
       "      <td>0</td>\n",
       "      <td>...</td>\n",
       "      <td>0</td>\n",
       "      <td>0</td>\n",
       "      <td>0</td>\n",
       "      <td>0</td>\n",
       "      <td>0</td>\n",
       "      <td>1</td>\n",
       "      <td>0</td>\n",
       "      <td>0</td>\n",
       "      <td>0</td>\n",
       "      <td>1</td>\n",
       "    </tr>\n",
       "    <tr>\n",
       "      <th>4</th>\n",
       "      <td>-0.067644</td>\n",
       "      <td>0.876256</td>\n",
       "      <td>-0.384096</td>\n",
       "      <td>1.138852</td>\n",
       "      <td>-1.505430</td>\n",
       "      <td>-0.030222</td>\n",
       "      <td>0</td>\n",
       "      <td>0</td>\n",
       "      <td>0</td>\n",
       "      <td>0</td>\n",
       "      <td>...</td>\n",
       "      <td>0</td>\n",
       "      <td>0</td>\n",
       "      <td>0</td>\n",
       "      <td>0</td>\n",
       "      <td>0</td>\n",
       "      <td>0</td>\n",
       "      <td>0</td>\n",
       "      <td>0</td>\n",
       "      <td>0</td>\n",
       "      <td>1</td>\n",
       "    </tr>\n",
       "    <tr>\n",
       "      <th>...</th>\n",
       "      <td>...</td>\n",
       "      <td>...</td>\n",
       "      <td>...</td>\n",
       "      <td>...</td>\n",
       "      <td>...</td>\n",
       "      <td>...</td>\n",
       "      <td>...</td>\n",
       "      <td>...</td>\n",
       "      <td>...</td>\n",
       "      <td>...</td>\n",
       "      <td>...</td>\n",
       "      <td>...</td>\n",
       "      <td>...</td>\n",
       "      <td>...</td>\n",
       "      <td>...</td>\n",
       "      <td>...</td>\n",
       "      <td>...</td>\n",
       "      <td>...</td>\n",
       "      <td>...</td>\n",
       "      <td>...</td>\n",
       "      <td>...</td>\n",
       "    </tr>\n",
       "    <tr>\n",
       "      <th>109995</th>\n",
       "      <td>-0.011692</td>\n",
       "      <td>0.952399</td>\n",
       "      <td>-0.113999</td>\n",
       "      <td>0.521752</td>\n",
       "      <td>1.752459</td>\n",
       "      <td>-0.030031</td>\n",
       "      <td>0</td>\n",
       "      <td>0</td>\n",
       "      <td>0</td>\n",
       "      <td>0</td>\n",
       "      <td>...</td>\n",
       "      <td>0</td>\n",
       "      <td>0</td>\n",
       "      <td>0</td>\n",
       "      <td>0</td>\n",
       "      <td>0</td>\n",
       "      <td>1</td>\n",
       "      <td>0</td>\n",
       "      <td>0</td>\n",
       "      <td>0</td>\n",
       "      <td>1</td>\n",
       "    </tr>\n",
       "    <tr>\n",
       "      <th>109996</th>\n",
       "      <td>-0.067644</td>\n",
       "      <td>0.760270</td>\n",
       "      <td>-0.417497</td>\n",
       "      <td>1.075250</td>\n",
       "      <td>0.882916</td>\n",
       "      <td>-0.030267</td>\n",
       "      <td>0</td>\n",
       "      <td>0</td>\n",
       "      <td>0</td>\n",
       "      <td>0</td>\n",
       "      <td>...</td>\n",
       "      <td>0</td>\n",
       "      <td>0</td>\n",
       "      <td>0</td>\n",
       "      <td>0</td>\n",
       "      <td>0</td>\n",
       "      <td>0</td>\n",
       "      <td>0</td>\n",
       "      <td>0</td>\n",
       "      <td>0</td>\n",
       "      <td>1</td>\n",
       "    </tr>\n",
       "    <tr>\n",
       "      <th>109997</th>\n",
       "      <td>-0.007484</td>\n",
       "      <td>0.946544</td>\n",
       "      <td>-0.304666</td>\n",
       "      <td>0.998022</td>\n",
       "      <td>-1.354709</td>\n",
       "      <td>-0.029414</td>\n",
       "      <td>0</td>\n",
       "      <td>0</td>\n",
       "      <td>0</td>\n",
       "      <td>0</td>\n",
       "      <td>...</td>\n",
       "      <td>0</td>\n",
       "      <td>0</td>\n",
       "      <td>0</td>\n",
       "      <td>0</td>\n",
       "      <td>0</td>\n",
       "      <td>1</td>\n",
       "      <td>0</td>\n",
       "      <td>0</td>\n",
       "      <td>0</td>\n",
       "      <td>1</td>\n",
       "    </tr>\n",
       "    <tr>\n",
       "      <th>109998</th>\n",
       "      <td>-0.067644</td>\n",
       "      <td>0.332071</td>\n",
       "      <td>1.253566</td>\n",
       "      <td>1.018788</td>\n",
       "      <td>-0.751826</td>\n",
       "      <td>-0.030338</td>\n",
       "      <td>0</td>\n",
       "      <td>0</td>\n",
       "      <td>0</td>\n",
       "      <td>0</td>\n",
       "      <td>...</td>\n",
       "      <td>0</td>\n",
       "      <td>0</td>\n",
       "      <td>0</td>\n",
       "      <td>0</td>\n",
       "      <td>0</td>\n",
       "      <td>0</td>\n",
       "      <td>0</td>\n",
       "      <td>0</td>\n",
       "      <td>0</td>\n",
       "      <td>1</td>\n",
       "    </tr>\n",
       "    <tr>\n",
       "      <th>109999</th>\n",
       "      <td>0.082508</td>\n",
       "      <td>-0.204629</td>\n",
       "      <td>0.789687</td>\n",
       "      <td>-0.450330</td>\n",
       "      <td>-1.064861</td>\n",
       "      <td>-0.030070</td>\n",
       "      <td>0</td>\n",
       "      <td>0</td>\n",
       "      <td>0</td>\n",
       "      <td>0</td>\n",
       "      <td>...</td>\n",
       "      <td>0</td>\n",
       "      <td>0</td>\n",
       "      <td>0</td>\n",
       "      <td>0</td>\n",
       "      <td>0</td>\n",
       "      <td>0</td>\n",
       "      <td>0</td>\n",
       "      <td>0</td>\n",
       "      <td>0</td>\n",
       "      <td>1</td>\n",
       "    </tr>\n",
       "  </tbody>\n",
       "</table>\n",
       "<p>110000 rows × 32 columns</p>\n",
       "</div>"
      ],
      "text/plain": [
       "        CONT_DUR  LONGITUDE  LATITUDE  DISCOVERY_DATE  DISCOVERY_DOY  \\\n",
       "0      -0.067644  -0.201154  1.680507        0.735248      -0.519947   \n",
       "1      -0.053280   0.760631 -0.679881        0.004034      -0.566323   \n",
       "2       0.098709   0.077188  0.321141        0.886298      -0.369227   \n",
       "3      -0.067644   0.451054 -1.165487       -1.078212       1.891586   \n",
       "4      -0.067644   0.876256 -0.384096        1.138852      -1.505430   \n",
       "...          ...        ...       ...             ...            ...   \n",
       "109995 -0.011692   0.952399 -0.113999        0.521752       1.752459   \n",
       "109996 -0.067644   0.760270 -0.417497        1.075250       0.882916   \n",
       "109997 -0.007484   0.946544 -0.304666        0.998022      -1.354709   \n",
       "109998 -0.067644   0.332071  1.253566        1.018788      -0.751826   \n",
       "109999  0.082508  -0.204629  0.789687       -0.450330      -1.064861   \n",
       "\n",
       "        FIRE_SIZE  NWCG_REPORTING_AGENCY_BIA  NWCG_REPORTING_AGENCY_BLM  \\\n",
       "0       -0.030292                          1                          0   \n",
       "1       -0.030186                          0                          0   \n",
       "2        0.014235                          0                          0   \n",
       "3       -0.029803                          0                          0   \n",
       "4       -0.030222                          0                          0   \n",
       "...           ...                        ...                        ...   \n",
       "109995  -0.030031                          0                          0   \n",
       "109996  -0.030267                          0                          0   \n",
       "109997  -0.029414                          0                          0   \n",
       "109998  -0.030338                          0                          0   \n",
       "109999  -0.030070                          0                          0   \n",
       "\n",
       "        NWCG_REPORTING_AGENCY_FS  NWCG_REPORTING_AGENCY_FWS  ...  \\\n",
       "0                              0                          0  ...   \n",
       "1                              0                          0  ...   \n",
       "2                              0                          0  ...   \n",
       "3                              0                          0  ...   \n",
       "4                              0                          0  ...   \n",
       "...                          ...                        ...  ...   \n",
       "109995                         0                          0  ...   \n",
       "109996                         0                          0  ...   \n",
       "109997                         0                          0  ...   \n",
       "109998                         0                          0  ...   \n",
       "109999                         0                          0  ...   \n",
       "\n",
       "        OWNER_CODE_9.0  OWNER_CODE_10.0  OWNER_CODE_11.0  OWNER_CODE_12.0  \\\n",
       "0                    0                0                0                0   \n",
       "1                    0                0                0                0   \n",
       "2                    0                0                0                0   \n",
       "3                    0                0                0                0   \n",
       "4                    0                0                0                0   \n",
       "...                ...              ...              ...              ...   \n",
       "109995               0                0                0                0   \n",
       "109996               0                0                0                0   \n",
       "109997               0                0                0                0   \n",
       "109998               0                0                0                0   \n",
       "109999               0                0                0                0   \n",
       "\n",
       "        OWNER_CODE_13.0  OWNER_CODE_14.0  OWNER_CODE_15.0  \\\n",
       "0                     0                0                0   \n",
       "1                     0                1                0   \n",
       "2                     0                1                0   \n",
       "3                     0                1                0   \n",
       "4                     0                0                0   \n",
       "...                 ...              ...              ...   \n",
       "109995                0                1                0   \n",
       "109996                0                0                0   \n",
       "109997                0                1                0   \n",
       "109998                0                0                0   \n",
       "109999                0                0                0   \n",
       "\n",
       "        SOURCE_SYSTEM_TYPE_FED  SOURCE_SYSTEM_TYPE_INTERAGCY  \\\n",
       "0                            1                             0   \n",
       "1                            0                             0   \n",
       "2                            0                             0   \n",
       "3                            0                             0   \n",
       "4                            0                             0   \n",
       "...                        ...                           ...   \n",
       "109995                       0                             0   \n",
       "109996                       0                             0   \n",
       "109997                       0                             0   \n",
       "109998                       0                             0   \n",
       "109999                       0                             0   \n",
       "\n",
       "        SOURCE_SYSTEM_TYPE_NONFED  \n",
       "0                               0  \n",
       "1                               1  \n",
       "2                               1  \n",
       "3                               1  \n",
       "4                               1  \n",
       "...                           ...  \n",
       "109995                          1  \n",
       "109996                          1  \n",
       "109997                          1  \n",
       "109998                          1  \n",
       "109999                          1  \n",
       "\n",
       "[110000 rows x 32 columns]"
      ]
     },
     "execution_count": 20,
     "metadata": {},
     "output_type": "execute_result"
    }
   ],
   "source": [
    "xTrain_model"
   ]
  },
  {
   "cell_type": "code",
   "execution_count": 21,
   "metadata": {
    "scrolled": false
   },
   "outputs": [
    {
     "name": "stdout",
     "output_type": "stream",
     "text": [
      "Fitting 5 folds for each of 12 candidates, totalling 60 fits\n",
      "[CV 1/5] END learning_rate=0.01, max_depth=40, random_state=441, reg_alpha=0.5;, score=0.556 total time=11.0min\n",
      "[CV 2/5] END learning_rate=0.01, max_depth=40, random_state=441, reg_alpha=0.5;, score=0.540 total time=11.0min\n",
      "[CV 3/5] END learning_rate=0.01, max_depth=40, random_state=441, reg_alpha=0.5;, score=0.548 total time=11.2min\n",
      "[CV 4/5] END learning_rate=0.01, max_depth=40, random_state=441, reg_alpha=0.5;, score=0.553 total time=11.0min\n",
      "[CV 5/5] END learning_rate=0.01, max_depth=40, random_state=441, reg_alpha=0.5;, score=0.549 total time=11.1min\n",
      "[CV 1/5] END learning_rate=0.01, max_depth=40, random_state=441, reg_alpha=0.8;, score=0.554 total time=10.8min\n",
      "[CV 2/5] END learning_rate=0.01, max_depth=40, random_state=441, reg_alpha=0.8;, score=0.542 total time=10.8min\n",
      "[CV 3/5] END learning_rate=0.01, max_depth=40, random_state=441, reg_alpha=0.8;, score=0.550 total time=10.9min\n",
      "[CV 4/5] END learning_rate=0.01, max_depth=40, random_state=441, reg_alpha=0.8;, score=0.551 total time=10.8min\n",
      "[CV 5/5] END learning_rate=0.01, max_depth=40, random_state=441, reg_alpha=0.8;, score=0.548 total time=10.8min\n",
      "[CV 1/5] END learning_rate=0.01, max_depth=100, random_state=441, reg_alpha=0.5;, score=0.556 total time=11.3min\n",
      "[CV 2/5] END learning_rate=0.01, max_depth=100, random_state=441, reg_alpha=0.5;, score=0.541 total time=11.2min\n",
      "[CV 3/5] END learning_rate=0.01, max_depth=100, random_state=441, reg_alpha=0.5;, score=0.547 total time=11.4min\n",
      "[CV 4/5] END learning_rate=0.01, max_depth=100, random_state=441, reg_alpha=0.5;, score=0.551 total time=11.2min\n",
      "[CV 5/5] END learning_rate=0.01, max_depth=100, random_state=441, reg_alpha=0.5;, score=0.549 total time=11.3min\n",
      "[CV 1/5] END learning_rate=0.01, max_depth=100, random_state=441, reg_alpha=0.8;, score=0.554 total time=11.4min\n",
      "[CV 2/5] END learning_rate=0.01, max_depth=100, random_state=441, reg_alpha=0.8;, score=0.541 total time=11.0min\n",
      "[CV 3/5] END learning_rate=0.01, max_depth=100, random_state=441, reg_alpha=0.8;, score=0.549 total time=11.1min\n",
      "[CV 4/5] END learning_rate=0.01, max_depth=100, random_state=441, reg_alpha=0.8;, score=0.551 total time=10.9min\n",
      "[CV 5/5] END learning_rate=0.01, max_depth=100, random_state=441, reg_alpha=0.8;, score=0.550 total time=11.0min\n",
      "[CV 1/5] END learning_rate=0.1, max_depth=40, random_state=441, reg_alpha=0.5;, score=0.576 total time=11.2min\n",
      "[CV 2/5] END learning_rate=0.1, max_depth=40, random_state=441, reg_alpha=0.5;, score=0.570 total time=11.0min\n",
      "[CV 3/5] END learning_rate=0.1, max_depth=40, random_state=441, reg_alpha=0.5;, score=0.574 total time=11.1min\n",
      "[CV 4/5] END learning_rate=0.1, max_depth=40, random_state=441, reg_alpha=0.5;, score=0.576 total time=11.0min\n",
      "[CV 5/5] END learning_rate=0.1, max_depth=40, random_state=441, reg_alpha=0.5;, score=0.575 total time=11.1min\n",
      "[CV 1/5] END learning_rate=0.1, max_depth=40, random_state=441, reg_alpha=0.8;, score=0.579 total time=11.0min\n",
      "[CV 2/5] END learning_rate=0.1, max_depth=40, random_state=441, reg_alpha=0.8;, score=0.571 total time=10.9min\n",
      "[CV 3/5] END learning_rate=0.1, max_depth=40, random_state=441, reg_alpha=0.8;, score=0.577 total time=10.9min\n",
      "[CV 4/5] END learning_rate=0.1, max_depth=40, random_state=441, reg_alpha=0.8;, score=0.576 total time=10.9min\n",
      "[CV 5/5] END learning_rate=0.1, max_depth=40, random_state=441, reg_alpha=0.8;, score=0.576 total time=11.0min\n",
      "[CV 1/5] END learning_rate=0.1, max_depth=100, random_state=441, reg_alpha=0.5;, score=0.577 total time=11.4min\n",
      "[CV 2/5] END learning_rate=0.1, max_depth=100, random_state=441, reg_alpha=0.5;, score=0.570 total time=11.2min\n",
      "[CV 3/5] END learning_rate=0.1, max_depth=100, random_state=441, reg_alpha=0.5;, score=0.573 total time=11.4min\n",
      "[CV 4/5] END learning_rate=0.1, max_depth=100, random_state=441, reg_alpha=0.5;, score=0.576 total time=11.4min\n",
      "[CV 5/5] END learning_rate=0.1, max_depth=100, random_state=441, reg_alpha=0.5;, score=0.574 total time=11.4min\n",
      "[CV 1/5] END learning_rate=0.1, max_depth=100, random_state=441, reg_alpha=0.8;, score=0.577 total time=11.3min\n",
      "[CV 2/5] END learning_rate=0.1, max_depth=100, random_state=441, reg_alpha=0.8;, score=0.571 total time=11.2min\n",
      "[CV 3/5] END learning_rate=0.1, max_depth=100, random_state=441, reg_alpha=0.8;, score=0.578 total time=11.1min\n",
      "[CV 4/5] END learning_rate=0.1, max_depth=100, random_state=441, reg_alpha=0.8;, score=0.577 total time=11.2min\n",
      "[CV 5/5] END learning_rate=0.1, max_depth=100, random_state=441, reg_alpha=0.8;, score=0.575 total time=11.2min\n",
      "[CV 1/5] END learning_rate=0.9, max_depth=40, random_state=441, reg_alpha=0.5;, score=0.559 total time= 6.6min\n",
      "[CV 2/5] END learning_rate=0.9, max_depth=40, random_state=441, reg_alpha=0.5;, score=0.553 total time= 6.5min\n",
      "[CV 3/5] END learning_rate=0.9, max_depth=40, random_state=441, reg_alpha=0.5;, score=0.555 total time= 6.5min\n",
      "[CV 4/5] END learning_rate=0.9, max_depth=40, random_state=441, reg_alpha=0.5;, score=0.556 total time= 6.6min\n",
      "[CV 5/5] END learning_rate=0.9, max_depth=40, random_state=441, reg_alpha=0.5;, score=0.555 total time= 6.6min\n",
      "[CV 1/5] END learning_rate=0.9, max_depth=40, random_state=441, reg_alpha=0.8;, score=0.560 total time= 6.7min\n",
      "[CV 2/5] END learning_rate=0.9, max_depth=40, random_state=441, reg_alpha=0.8;, score=0.552 total time= 6.5min\n",
      "[CV 3/5] END learning_rate=0.9, max_depth=40, random_state=441, reg_alpha=0.8;, score=0.554 total time= 6.6min\n",
      "[CV 4/5] END learning_rate=0.9, max_depth=40, random_state=441, reg_alpha=0.8;, score=0.555 total time= 6.6min\n",
      "[CV 5/5] END learning_rate=0.9, max_depth=40, random_state=441, reg_alpha=0.8;, score=0.554 total time= 6.6min\n",
      "[CV 1/5] END learning_rate=0.9, max_depth=100, random_state=441, reg_alpha=0.5;, score=0.561 total time= 6.6min\n",
      "[CV 2/5] END learning_rate=0.9, max_depth=100, random_state=441, reg_alpha=0.5;, score=0.553 total time= 6.6min\n",
      "[CV 3/5] END learning_rate=0.9, max_depth=100, random_state=441, reg_alpha=0.5;, score=0.557 total time= 6.5min\n",
      "[CV 4/5] END learning_rate=0.9, max_depth=100, random_state=441, reg_alpha=0.5;, score=0.555 total time= 6.6min\n",
      "[CV 5/5] END learning_rate=0.9, max_depth=100, random_state=441, reg_alpha=0.5;, score=0.557 total time= 6.6min\n",
      "[CV 1/5] END learning_rate=0.9, max_depth=100, random_state=441, reg_alpha=0.8;, score=0.559 total time= 6.6min\n",
      "[CV 2/5] END learning_rate=0.9, max_depth=100, random_state=441, reg_alpha=0.8;, score=0.553 total time= 6.6min\n",
      "[CV 3/5] END learning_rate=0.9, max_depth=100, random_state=441, reg_alpha=0.8;, score=0.552 total time= 6.6min\n",
      "[CV 4/5] END learning_rate=0.9, max_depth=100, random_state=441, reg_alpha=0.8;, score=0.555 total time= 6.7min\n",
      "[CV 5/5] END learning_rate=0.9, max_depth=100, random_state=441, reg_alpha=0.8;, score=0.553 total time= 6.8min\n",
      "Wall time: 9h 53min 19s\n"
     ]
    },
    {
     "data": {
      "text/html": [
       "<style>#sk-container-id-1 {color: black;background-color: white;}#sk-container-id-1 pre{padding: 0;}#sk-container-id-1 div.sk-toggleable {background-color: white;}#sk-container-id-1 label.sk-toggleable__label {cursor: pointer;display: block;width: 100%;margin-bottom: 0;padding: 0.3em;box-sizing: border-box;text-align: center;}#sk-container-id-1 label.sk-toggleable__label-arrow:before {content: \"▸\";float: left;margin-right: 0.25em;color: #696969;}#sk-container-id-1 label.sk-toggleable__label-arrow:hover:before {color: black;}#sk-container-id-1 div.sk-estimator:hover label.sk-toggleable__label-arrow:before {color: black;}#sk-container-id-1 div.sk-toggleable__content {max-height: 0;max-width: 0;overflow: hidden;text-align: left;background-color: #f0f8ff;}#sk-container-id-1 div.sk-toggleable__content pre {margin: 0.2em;color: black;border-radius: 0.25em;background-color: #f0f8ff;}#sk-container-id-1 input.sk-toggleable__control:checked~div.sk-toggleable__content {max-height: 200px;max-width: 100%;overflow: auto;}#sk-container-id-1 input.sk-toggleable__control:checked~label.sk-toggleable__label-arrow:before {content: \"▾\";}#sk-container-id-1 div.sk-estimator input.sk-toggleable__control:checked~label.sk-toggleable__label {background-color: #d4ebff;}#sk-container-id-1 div.sk-label input.sk-toggleable__control:checked~label.sk-toggleable__label {background-color: #d4ebff;}#sk-container-id-1 input.sk-hidden--visually {border: 0;clip: rect(1px 1px 1px 1px);clip: rect(1px, 1px, 1px, 1px);height: 1px;margin: -1px;overflow: hidden;padding: 0;position: absolute;width: 1px;}#sk-container-id-1 div.sk-estimator {font-family: monospace;background-color: #f0f8ff;border: 1px dotted black;border-radius: 0.25em;box-sizing: border-box;margin-bottom: 0.5em;}#sk-container-id-1 div.sk-estimator:hover {background-color: #d4ebff;}#sk-container-id-1 div.sk-parallel-item::after {content: \"\";width: 100%;border-bottom: 1px solid gray;flex-grow: 1;}#sk-container-id-1 div.sk-label:hover label.sk-toggleable__label {background-color: #d4ebff;}#sk-container-id-1 div.sk-serial::before {content: \"\";position: absolute;border-left: 1px solid gray;box-sizing: border-box;top: 0;bottom: 0;left: 50%;z-index: 0;}#sk-container-id-1 div.sk-serial {display: flex;flex-direction: column;align-items: center;background-color: white;padding-right: 0.2em;padding-left: 0.2em;position: relative;}#sk-container-id-1 div.sk-item {position: relative;z-index: 1;}#sk-container-id-1 div.sk-parallel {display: flex;align-items: stretch;justify-content: center;background-color: white;position: relative;}#sk-container-id-1 div.sk-item::before, #sk-container-id-1 div.sk-parallel-item::before {content: \"\";position: absolute;border-left: 1px solid gray;box-sizing: border-box;top: 0;bottom: 0;left: 50%;z-index: -1;}#sk-container-id-1 div.sk-parallel-item {display: flex;flex-direction: column;z-index: 1;position: relative;background-color: white;}#sk-container-id-1 div.sk-parallel-item:first-child::after {align-self: flex-end;width: 50%;}#sk-container-id-1 div.sk-parallel-item:last-child::after {align-self: flex-start;width: 50%;}#sk-container-id-1 div.sk-parallel-item:only-child::after {width: 0;}#sk-container-id-1 div.sk-dashed-wrapped {border: 1px dashed gray;margin: 0 0.4em 0.5em 0.4em;box-sizing: border-box;padding-bottom: 0.4em;background-color: white;}#sk-container-id-1 div.sk-label label {font-family: monospace;font-weight: bold;display: inline-block;line-height: 1.2em;}#sk-container-id-1 div.sk-label-container {text-align: center;}#sk-container-id-1 div.sk-container {/* jupyter's `normalize.less` sets `[hidden] { display: none; }` but bootstrap.min.css set `[hidden] { display: none !important; }` so we also need the `!important` here to be able to override the default hidden behavior on the sphinx rendered scikit-learn.org. See: https://github.com/scikit-learn/scikit-learn/issues/21755 */display: inline-block !important;position: relative;}#sk-container-id-1 div.sk-text-repr-fallback {display: none;}</style><div id=\"sk-container-id-1\" class=\"sk-top-container\"><div class=\"sk-text-repr-fallback\"><pre>GridSearchCV(cv=KFold(n_splits=5, random_state=None, shuffle=True),\n",
       "             estimator=XGBClassifier(base_score=None, booster=None,\n",
       "                                     callbacks=None, colsample_bylevel=None,\n",
       "                                     colsample_bynode=None,\n",
       "                                     colsample_bytree=None,\n",
       "                                     early_stopping_rounds=None,\n",
       "                                     enable_categorical=False, eval_metric=None,\n",
       "                                     feature_types=None, gamma=None,\n",
       "                                     gpu_id=None, grow_policy=None,\n",
       "                                     importance_type=None,\n",
       "                                     i...\n",
       "                                     max_cat_to_onehot=None,\n",
       "                                     max_delta_step=None, max_depth=None,\n",
       "                                     max_leaves=None, min_child_weight=None,\n",
       "                                     missing=nan, monotone_constraints=None,\n",
       "                                     n_estimators=200, n_jobs=None,\n",
       "                                     num_parallel_tree=None,\n",
       "                                     objective=&#x27;multi:softprob&#x27;, predictor=None, ...),\n",
       "             param_grid={&#x27;learning_rate&#x27;: [0.01, 0.1, 0.9],\n",
       "                         &#x27;max_depth&#x27;: [40, 100], &#x27;random_state&#x27;: [441],\n",
       "                         &#x27;reg_alpha&#x27;: [0.5, 0.8]},\n",
       "             scoring=&#x27;accuracy&#x27;, verbose=3)</pre><b>In a Jupyter environment, please rerun this cell to show the HTML representation or trust the notebook. <br />On GitHub, the HTML representation is unable to render, please try loading this page with nbviewer.org.</b></div><div class=\"sk-container\" hidden><div class=\"sk-item sk-dashed-wrapped\"><div class=\"sk-label-container\"><div class=\"sk-label sk-toggleable\"><input class=\"sk-toggleable__control sk-hidden--visually\" id=\"sk-estimator-id-1\" type=\"checkbox\" ><label for=\"sk-estimator-id-1\" class=\"sk-toggleable__label sk-toggleable__label-arrow\">GridSearchCV</label><div class=\"sk-toggleable__content\"><pre>GridSearchCV(cv=KFold(n_splits=5, random_state=None, shuffle=True),\n",
       "             estimator=XGBClassifier(base_score=None, booster=None,\n",
       "                                     callbacks=None, colsample_bylevel=None,\n",
       "                                     colsample_bynode=None,\n",
       "                                     colsample_bytree=None,\n",
       "                                     early_stopping_rounds=None,\n",
       "                                     enable_categorical=False, eval_metric=None,\n",
       "                                     feature_types=None, gamma=None,\n",
       "                                     gpu_id=None, grow_policy=None,\n",
       "                                     importance_type=None,\n",
       "                                     i...\n",
       "                                     max_cat_to_onehot=None,\n",
       "                                     max_delta_step=None, max_depth=None,\n",
       "                                     max_leaves=None, min_child_weight=None,\n",
       "                                     missing=nan, monotone_constraints=None,\n",
       "                                     n_estimators=200, n_jobs=None,\n",
       "                                     num_parallel_tree=None,\n",
       "                                     objective=&#x27;multi:softprob&#x27;, predictor=None, ...),\n",
       "             param_grid={&#x27;learning_rate&#x27;: [0.01, 0.1, 0.9],\n",
       "                         &#x27;max_depth&#x27;: [40, 100], &#x27;random_state&#x27;: [441],\n",
       "                         &#x27;reg_alpha&#x27;: [0.5, 0.8]},\n",
       "             scoring=&#x27;accuracy&#x27;, verbose=3)</pre></div></div></div><div class=\"sk-parallel\"><div class=\"sk-parallel-item\"><div class=\"sk-item\"><div class=\"sk-label-container\"><div class=\"sk-label sk-toggleable\"><input class=\"sk-toggleable__control sk-hidden--visually\" id=\"sk-estimator-id-2\" type=\"checkbox\" ><label for=\"sk-estimator-id-2\" class=\"sk-toggleable__label sk-toggleable__label-arrow\">estimator: XGBClassifier</label><div class=\"sk-toggleable__content\"><pre>XGBClassifier(base_score=None, booster=None, callbacks=None,\n",
       "              colsample_bylevel=None, colsample_bynode=None,\n",
       "              colsample_bytree=None, early_stopping_rounds=None,\n",
       "              enable_categorical=False, eval_metric=None, feature_types=None,\n",
       "              gamma=None, gpu_id=None, grow_policy=None, importance_type=None,\n",
       "              interaction_constraints=None, learning_rate=None, max_bin=None,\n",
       "              max_cat_threshold=None, max_cat_to_onehot=None,\n",
       "              max_delta_step=None, max_depth=None, max_leaves=None,\n",
       "              min_child_weight=None, missing=nan, monotone_constraints=None,\n",
       "              n_estimators=200, n_jobs=None, num_parallel_tree=None,\n",
       "              objective=&#x27;multi:softprob&#x27;, predictor=None, ...)</pre></div></div></div><div class=\"sk-serial\"><div class=\"sk-item\"><div class=\"sk-estimator sk-toggleable\"><input class=\"sk-toggleable__control sk-hidden--visually\" id=\"sk-estimator-id-3\" type=\"checkbox\" ><label for=\"sk-estimator-id-3\" class=\"sk-toggleable__label sk-toggleable__label-arrow\">XGBClassifier</label><div class=\"sk-toggleable__content\"><pre>XGBClassifier(base_score=None, booster=None, callbacks=None,\n",
       "              colsample_bylevel=None, colsample_bynode=None,\n",
       "              colsample_bytree=None, early_stopping_rounds=None,\n",
       "              enable_categorical=False, eval_metric=None, feature_types=None,\n",
       "              gamma=None, gpu_id=None, grow_policy=None, importance_type=None,\n",
       "              interaction_constraints=None, learning_rate=None, max_bin=None,\n",
       "              max_cat_threshold=None, max_cat_to_onehot=None,\n",
       "              max_delta_step=None, max_depth=None, max_leaves=None,\n",
       "              min_child_weight=None, missing=nan, monotone_constraints=None,\n",
       "              n_estimators=200, n_jobs=None, num_parallel_tree=None,\n",
       "              objective=&#x27;multi:softprob&#x27;, predictor=None, ...)</pre></div></div></div></div></div></div></div></div></div></div>"
      ],
      "text/plain": [
       "GridSearchCV(cv=KFold(n_splits=5, random_state=None, shuffle=True),\n",
       "             estimator=XGBClassifier(base_score=None, booster=None,\n",
       "                                     callbacks=None, colsample_bylevel=None,\n",
       "                                     colsample_bynode=None,\n",
       "                                     colsample_bytree=None,\n",
       "                                     early_stopping_rounds=None,\n",
       "                                     enable_categorical=False, eval_metric=None,\n",
       "                                     feature_types=None, gamma=None,\n",
       "                                     gpu_id=None, grow_policy=None,\n",
       "                                     importance_type=None,\n",
       "                                     i...\n",
       "                                     max_cat_to_onehot=None,\n",
       "                                     max_delta_step=None, max_depth=None,\n",
       "                                     max_leaves=None, min_child_weight=None,\n",
       "                                     missing=nan, monotone_constraints=None,\n",
       "                                     n_estimators=200, n_jobs=None,\n",
       "                                     num_parallel_tree=None,\n",
       "                                     objective='multi:softprob', predictor=None, ...),\n",
       "             param_grid={'learning_rate': [0.01, 0.1, 0.9],\n",
       "                         'max_depth': [40, 100], 'random_state': [441],\n",
       "                         'reg_alpha': [0.5, 0.8]},\n",
       "             scoring='accuracy', verbose=3)"
      ]
     },
     "execution_count": 21,
     "metadata": {},
     "output_type": "execute_result"
    }
   ],
   "source": [
    "%%time\n",
    "\n",
    "#Count was 3500 per class when tuning\n",
    "\n",
    "estimator = XGBClassifier(objective = \"multi:softprob\", n_estimators=200) \n",
    "\n",
    "# crossvalidation folds\n",
    "cv = KFold(\n",
    "    n_splits=5,  # number of folds\n",
    "    shuffle=True # protects against data being ordered, e.g., all successes first\n",
    ")\n",
    "\n",
    "grid_search = GridSearchCV(\n",
    "    estimator=estimator,\n",
    "    param_grid=params,\n",
    "    scoring = 'accuracy',\n",
    "    #n_jobs = ,\n",
    "    cv = cv,\n",
    "    verbose=3,\n",
    "    refit = True\n",
    ")\n",
    "\n",
    "grid_search.fit(xTrain_model, lc_yTrain)"
   ]
  },
  {
   "cell_type": "code",
   "execution_count": 23,
   "metadata": {},
   "outputs": [
    {
     "data": {
      "text/plain": [
       "{'mean_fit_time': array([660.71047578, 647.83768134, 673.60431728, 662.93366508,\n",
       "        664.14345131, 653.64221649, 681.55183554, 670.92230568,\n",
       "        393.19705267, 395.93431792, 394.58572593, 398.94935966]),\n",
       " 'std_fit_time': array([ 4.60734579,  2.80058259,  4.28577621, 11.02567465,  3.27537672,\n",
       "         3.8089809 ,  4.09583836,  3.57932502,  1.26982501,  2.62269819,\n",
       "         1.97136775,  3.98864104]),\n",
       " 'mean_score_time': array([2.56127796, 2.50306387, 2.67240801, 2.48750105, 1.64974203,\n",
       "        1.6001071 , 1.67490001, 1.66050725, 0.80384016, 0.85491252,\n",
       "        0.8108305 , 0.81462007]),\n",
       " 'std_score_time': array([0.07215945, 0.12195588, 0.09243618, 0.08985217, 0.0744826 ,\n",
       "        0.06988363, 0.08894502, 0.07747964, 0.01420812, 0.04314875,\n",
       "        0.02085351, 0.02073251]),\n",
       " 'param_learning_rate': masked_array(data=[0.01, 0.01, 0.01, 0.01, 0.1, 0.1, 0.1, 0.1, 0.9, 0.9,\n",
       "                    0.9, 0.9],\n",
       "              mask=[False, False, False, False, False, False, False, False,\n",
       "                    False, False, False, False],\n",
       "        fill_value='?',\n",
       "             dtype=object),\n",
       " 'param_max_depth': masked_array(data=[40, 40, 100, 100, 40, 40, 100, 100, 40, 40, 100, 100],\n",
       "              mask=[False, False, False, False, False, False, False, False,\n",
       "                    False, False, False, False],\n",
       "        fill_value='?',\n",
       "             dtype=object),\n",
       " 'param_random_state': masked_array(data=[441, 441, 441, 441, 441, 441, 441, 441, 441, 441, 441,\n",
       "                    441],\n",
       "              mask=[False, False, False, False, False, False, False, False,\n",
       "                    False, False, False, False],\n",
       "        fill_value='?',\n",
       "             dtype=object),\n",
       " 'param_reg_alpha': masked_array(data=[0.5, 0.8, 0.5, 0.8, 0.5, 0.8, 0.5, 0.8, 0.5, 0.8, 0.5,\n",
       "                    0.8],\n",
       "              mask=[False, False, False, False, False, False, False, False,\n",
       "                    False, False, False, False],\n",
       "        fill_value='?',\n",
       "             dtype=object),\n",
       " 'params': [{'learning_rate': 0.01,\n",
       "   'max_depth': 40,\n",
       "   'random_state': 441,\n",
       "   'reg_alpha': 0.5},\n",
       "  {'learning_rate': 0.01,\n",
       "   'max_depth': 40,\n",
       "   'random_state': 441,\n",
       "   'reg_alpha': 0.8},\n",
       "  {'learning_rate': 0.01,\n",
       "   'max_depth': 100,\n",
       "   'random_state': 441,\n",
       "   'reg_alpha': 0.5},\n",
       "  {'learning_rate': 0.01,\n",
       "   'max_depth': 100,\n",
       "   'random_state': 441,\n",
       "   'reg_alpha': 0.8},\n",
       "  {'learning_rate': 0.1,\n",
       "   'max_depth': 40,\n",
       "   'random_state': 441,\n",
       "   'reg_alpha': 0.5},\n",
       "  {'learning_rate': 0.1,\n",
       "   'max_depth': 40,\n",
       "   'random_state': 441,\n",
       "   'reg_alpha': 0.8},\n",
       "  {'learning_rate': 0.1,\n",
       "   'max_depth': 100,\n",
       "   'random_state': 441,\n",
       "   'reg_alpha': 0.5},\n",
       "  {'learning_rate': 0.1,\n",
       "   'max_depth': 100,\n",
       "   'random_state': 441,\n",
       "   'reg_alpha': 0.8},\n",
       "  {'learning_rate': 0.9,\n",
       "   'max_depth': 40,\n",
       "   'random_state': 441,\n",
       "   'reg_alpha': 0.5},\n",
       "  {'learning_rate': 0.9,\n",
       "   'max_depth': 40,\n",
       "   'random_state': 441,\n",
       "   'reg_alpha': 0.8},\n",
       "  {'learning_rate': 0.9,\n",
       "   'max_depth': 100,\n",
       "   'random_state': 441,\n",
       "   'reg_alpha': 0.5},\n",
       "  {'learning_rate': 0.9,\n",
       "   'max_depth': 100,\n",
       "   'random_state': 441,\n",
       "   'reg_alpha': 0.8}],\n",
       " 'split0_test_score': array([0.55581818, 0.55427273, 0.55563636, 0.55395455, 0.57609091,\n",
       "        0.57936364, 0.57736364, 0.57686364, 0.55881818, 0.55959091,\n",
       "        0.56109091, 0.55868182]),\n",
       " 'split1_test_score': array([0.54022727, 0.54190909, 0.54145455, 0.54118182, 0.57040909,\n",
       "        0.57122727, 0.57009091, 0.5705    , 0.55254545, 0.5525    ,\n",
       "        0.55263636, 0.55318182]),\n",
       " 'split2_test_score': array([0.54790909, 0.54995455, 0.54727273, 0.54927273, 0.57363636,\n",
       "        0.57668182, 0.57318182, 0.57763636, 0.55477273, 0.55422727,\n",
       "        0.55654545, 0.55222727]),\n",
       " 'split3_test_score': array([0.55272727, 0.55136364, 0.5515    , 0.55095455, 0.57604545,\n",
       "        0.57568182, 0.57577273, 0.577     , 0.55627273, 0.55495455,\n",
       "        0.55486364, 0.55459091]),\n",
       " 'split4_test_score': array([0.54863636, 0.54827273, 0.54886364, 0.54972727, 0.5745    ,\n",
       "        0.57609091, 0.57386364, 0.57495455, 0.55509091, 0.55436364,\n",
       "        0.55722727, 0.55340909]),\n",
       " 'mean_test_score': array([0.54906364, 0.54915455, 0.54894545, 0.54901818, 0.57413636,\n",
       "        0.57580909, 0.57405455, 0.57539091, 0.5555    , 0.55512727,\n",
       "        0.55647273, 0.55441818]),\n",
       " 'std_test_score': array([0.00526579, 0.00412287, 0.00469494, 0.00424484, 0.00208517,\n",
       "        0.00262622, 0.0024662 , 0.00260429, 0.002051  , 0.00237696,\n",
       "        0.00280032, 0.00226077]),\n",
       " 'rank_test_score': array([10,  9, 12, 11,  3,  1,  4,  2,  6,  7,  5,  8])}"
      ]
     },
     "execution_count": 23,
     "metadata": {},
     "output_type": "execute_result"
    }
   ],
   "source": [
    "grid_search.cv_results_"
   ]
  },
  {
   "cell_type": "code",
   "execution_count": 24,
   "metadata": {},
   "outputs": [
    {
     "name": "stdout",
     "output_type": "stream",
     "text": [
      "The best training accuracy score is  57.58090909090908 %\n"
     ]
    }
   ],
   "source": [
    "print(\"The best training accuracy score is \", grid_search.best_score_ * 100, \"%\")"
   ]
  },
  {
   "cell_type": "code",
   "execution_count": 25,
   "metadata": {
    "lines_to_next_cell": 2
   },
   "outputs": [
    {
     "name": "stdout",
     "output_type": "stream",
     "text": [
      "The best parameter combination is:\n",
      "  {'learning_rate': 0.1, 'max_depth': 40, 'random_state': 441, 'reg_alpha': 0.8}\n"
     ]
    }
   ],
   "source": [
    "print(\"The best parameter combination is:\\n \", grid_search.best_params_)"
   ]
  },
  {
   "cell_type": "code",
   "execution_count": 26,
   "metadata": {},
   "outputs": [],
   "source": [
    "final_tuning_model = grid_search.best_estimator_"
   ]
  },
  {
   "cell_type": "code",
   "execution_count": 27,
   "metadata": {},
   "outputs": [],
   "source": [
    "pickle.dump(grid_search, open('grid_search_XGB', 'wb'))"
   ]
  },
  {
   "cell_type": "markdown",
   "metadata": {},
   "source": [
    "### Final training model\n",
    "Use the best hyperparameters from above to train on 30% of training data (~1million rows) due to computational constraints"
   ]
  },
  {
   "cell_type": "code",
   "execution_count": 19,
   "metadata": {},
   "outputs": [
    {
     "data": {
      "text/plain": [
       "Index(['NWCG_REPORTING_AGENCY', 'CONT_DUR', 'LONGITUDE', 'LATITUDE',\n",
       "       'OWNER_CODE', 'SOURCE_SYSTEM_TYPE', 'DISCOVERY_DATE', 'DISCOVERY_DOY',\n",
       "       'FIRE_SIZE', 'STAT_CAUSE_DESCR'],\n",
       "      dtype='object')"
      ]
     },
     "execution_count": 19,
     "metadata": {},
     "output_type": "execute_result"
    }
   ],
   "source": [
    "test_impute_df.columns"
   ]
  },
  {
   "cell_type": "code",
   "execution_count": 20,
   "metadata": {},
   "outputs": [
    {
     "name": "stdout",
     "output_type": "stream",
     "text": [
      "The best parameter combination is:\n",
      "  {'learning_rate': 0.1, 'max_depth': 40, 'random_state': 441, 'reg_alpha': 0.8}\n"
     ]
    }
   ],
   "source": [
    "grid_search=pickle.load(open('grid_search_XGB', 'rb'))\n",
    "print(\"The best parameter combination is:\\n \", grid_search.best_params_)"
   ]
  },
  {
   "cell_type": "code",
   "execution_count": 21,
   "metadata": {},
   "outputs": [
    {
     "name": "stdout",
     "output_type": "stream",
     "text": [
      "Wall time: 4h 19min 2s\n"
     ]
    },
    {
     "data": {
      "text/html": [
       "<style>#sk-container-id-1 {color: black;background-color: white;}#sk-container-id-1 pre{padding: 0;}#sk-container-id-1 div.sk-toggleable {background-color: white;}#sk-container-id-1 label.sk-toggleable__label {cursor: pointer;display: block;width: 100%;margin-bottom: 0;padding: 0.3em;box-sizing: border-box;text-align: center;}#sk-container-id-1 label.sk-toggleable__label-arrow:before {content: \"▸\";float: left;margin-right: 0.25em;color: #696969;}#sk-container-id-1 label.sk-toggleable__label-arrow:hover:before {color: black;}#sk-container-id-1 div.sk-estimator:hover label.sk-toggleable__label-arrow:before {color: black;}#sk-container-id-1 div.sk-toggleable__content {max-height: 0;max-width: 0;overflow: hidden;text-align: left;background-color: #f0f8ff;}#sk-container-id-1 div.sk-toggleable__content pre {margin: 0.2em;color: black;border-radius: 0.25em;background-color: #f0f8ff;}#sk-container-id-1 input.sk-toggleable__control:checked~div.sk-toggleable__content {max-height: 200px;max-width: 100%;overflow: auto;}#sk-container-id-1 input.sk-toggleable__control:checked~label.sk-toggleable__label-arrow:before {content: \"▾\";}#sk-container-id-1 div.sk-estimator input.sk-toggleable__control:checked~label.sk-toggleable__label {background-color: #d4ebff;}#sk-container-id-1 div.sk-label input.sk-toggleable__control:checked~label.sk-toggleable__label {background-color: #d4ebff;}#sk-container-id-1 input.sk-hidden--visually {border: 0;clip: rect(1px 1px 1px 1px);clip: rect(1px, 1px, 1px, 1px);height: 1px;margin: -1px;overflow: hidden;padding: 0;position: absolute;width: 1px;}#sk-container-id-1 div.sk-estimator {font-family: monospace;background-color: #f0f8ff;border: 1px dotted black;border-radius: 0.25em;box-sizing: border-box;margin-bottom: 0.5em;}#sk-container-id-1 div.sk-estimator:hover {background-color: #d4ebff;}#sk-container-id-1 div.sk-parallel-item::after {content: \"\";width: 100%;border-bottom: 1px solid gray;flex-grow: 1;}#sk-container-id-1 div.sk-label:hover label.sk-toggleable__label {background-color: #d4ebff;}#sk-container-id-1 div.sk-serial::before {content: \"\";position: absolute;border-left: 1px solid gray;box-sizing: border-box;top: 0;bottom: 0;left: 50%;z-index: 0;}#sk-container-id-1 div.sk-serial {display: flex;flex-direction: column;align-items: center;background-color: white;padding-right: 0.2em;padding-left: 0.2em;position: relative;}#sk-container-id-1 div.sk-item {position: relative;z-index: 1;}#sk-container-id-1 div.sk-parallel {display: flex;align-items: stretch;justify-content: center;background-color: white;position: relative;}#sk-container-id-1 div.sk-item::before, #sk-container-id-1 div.sk-parallel-item::before {content: \"\";position: absolute;border-left: 1px solid gray;box-sizing: border-box;top: 0;bottom: 0;left: 50%;z-index: -1;}#sk-container-id-1 div.sk-parallel-item {display: flex;flex-direction: column;z-index: 1;position: relative;background-color: white;}#sk-container-id-1 div.sk-parallel-item:first-child::after {align-self: flex-end;width: 50%;}#sk-container-id-1 div.sk-parallel-item:last-child::after {align-self: flex-start;width: 50%;}#sk-container-id-1 div.sk-parallel-item:only-child::after {width: 0;}#sk-container-id-1 div.sk-dashed-wrapped {border: 1px dashed gray;margin: 0 0.4em 0.5em 0.4em;box-sizing: border-box;padding-bottom: 0.4em;background-color: white;}#sk-container-id-1 div.sk-label label {font-family: monospace;font-weight: bold;display: inline-block;line-height: 1.2em;}#sk-container-id-1 div.sk-label-container {text-align: center;}#sk-container-id-1 div.sk-container {/* jupyter's `normalize.less` sets `[hidden] { display: none; }` but bootstrap.min.css set `[hidden] { display: none !important; }` so we also need the `!important` here to be able to override the default hidden behavior on the sphinx rendered scikit-learn.org. See: https://github.com/scikit-learn/scikit-learn/issues/21755 */display: inline-block !important;position: relative;}#sk-container-id-1 div.sk-text-repr-fallback {display: none;}</style><div id=\"sk-container-id-1\" class=\"sk-top-container\"><div class=\"sk-text-repr-fallback\"><pre>XGBClassifier(base_score=None, booster=None, callbacks=None,\n",
       "              colsample_bylevel=None, colsample_bynode=None,\n",
       "              colsample_bytree=None, early_stopping_rounds=None,\n",
       "              enable_categorical=False, eval_metric=None, feature_types=None,\n",
       "              gamma=None, gpu_id=None, grow_policy=None, importance_type=None,\n",
       "              interaction_constraints=None, learning_rate=None, max_bin=None,\n",
       "              max_cat_threshold=None, max_cat_to_onehot=None,\n",
       "              max_delta_step=None, max_depth=40, max_leaves=None,\n",
       "              min_child_weight=None, missing=nan, monotone_constraints=None,\n",
       "              n_estimators=200, n_jobs=None, num_parallel_tree=None,\n",
       "              objective=&#x27;multi:softprob&#x27;, predictor=None, ...)</pre><b>In a Jupyter environment, please rerun this cell to show the HTML representation or trust the notebook. <br />On GitHub, the HTML representation is unable to render, please try loading this page with nbviewer.org.</b></div><div class=\"sk-container\" hidden><div class=\"sk-item\"><div class=\"sk-estimator sk-toggleable\"><input class=\"sk-toggleable__control sk-hidden--visually\" id=\"sk-estimator-id-1\" type=\"checkbox\" checked><label for=\"sk-estimator-id-1\" class=\"sk-toggleable__label sk-toggleable__label-arrow\">XGBClassifier</label><div class=\"sk-toggleable__content\"><pre>XGBClassifier(base_score=None, booster=None, callbacks=None,\n",
       "              colsample_bylevel=None, colsample_bynode=None,\n",
       "              colsample_bytree=None, early_stopping_rounds=None,\n",
       "              enable_categorical=False, eval_metric=None, feature_types=None,\n",
       "              gamma=None, gpu_id=None, grow_policy=None, importance_type=None,\n",
       "              interaction_constraints=None, learning_rate=None, max_bin=None,\n",
       "              max_cat_threshold=None, max_cat_to_onehot=None,\n",
       "              max_delta_step=None, max_depth=40, max_leaves=None,\n",
       "              min_child_weight=None, missing=nan, monotone_constraints=None,\n",
       "              n_estimators=200, n_jobs=None, num_parallel_tree=None,\n",
       "              objective=&#x27;multi:softprob&#x27;, predictor=None, ...)</pre></div></div></div></div></div>"
      ],
      "text/plain": [
       "XGBClassifier(base_score=None, booster=None, callbacks=None,\n",
       "              colsample_bylevel=None, colsample_bynode=None,\n",
       "              colsample_bytree=None, early_stopping_rounds=None,\n",
       "              enable_categorical=False, eval_metric=None, feature_types=None,\n",
       "              gamma=None, gpu_id=None, grow_policy=None, importance_type=None,\n",
       "              interaction_constraints=None, learning_rate=None, max_bin=None,\n",
       "              max_cat_threshold=None, max_cat_to_onehot=None,\n",
       "              max_delta_step=None, max_depth=40, max_leaves=None,\n",
       "              min_child_weight=None, missing=nan, monotone_constraints=None,\n",
       "              n_estimators=200, n_jobs=None, num_parallel_tree=None,\n",
       "              objective='multi:softprob', predictor=None, ...)"
      ]
     },
     "execution_count": 21,
     "metadata": {},
     "output_type": "execute_result"
    }
   ],
   "source": [
    "%%time\n",
    "final_estimator = XGBClassifier(objective = \"multi:softprob\", max_depth = 40, n_estimators = 200,\n",
    "                          random_state = 441, reg_alpha = 0.8) \n",
    "\n",
    "final_estimator.fit(xTrain_model, lc_yTrain)"
   ]
  },
  {
   "cell_type": "code",
   "execution_count": 22,
   "metadata": {},
   "outputs": [
    {
     "name": "stdout",
     "output_type": "stream",
     "text": [
      "Wall time: 16.9 s\n"
     ]
    }
   ],
   "source": [
    "%%time\n",
    "pickle.dump(final_estimator, open('final_estimator_XGB', 'wb'))"
   ]
  },
  {
   "cell_type": "markdown",
   "metadata": {},
   "source": [
    "### Prediction accuracy on final test set"
   ]
  },
  {
   "cell_type": "code",
   "execution_count": 23,
   "metadata": {},
   "outputs": [
    {
     "data": {
      "text/plain": [
       "['CONT_DUR',\n",
       " 'LONGITUDE',\n",
       " 'LATITUDE',\n",
       " 'DISCOVERY_DATE',\n",
       " 'DISCOVERY_DOY',\n",
       " 'FIRE_SIZE',\n",
       " 'NWCG_REPORTING_AGENCY_BIA',\n",
       " 'NWCG_REPORTING_AGENCY_BLM',\n",
       " 'NWCG_REPORTING_AGENCY_BOR',\n",
       " 'NWCG_REPORTING_AGENCY_FS',\n",
       " 'NWCG_REPORTING_AGENCY_FWS',\n",
       " 'NWCG_REPORTING_AGENCY_IA',\n",
       " 'NWCG_REPORTING_AGENCY_NPS',\n",
       " 'NWCG_REPORTING_AGENCY_ST/C&L',\n",
       " 'NWCG_REPORTING_AGENCY_TRIBE',\n",
       " 'OWNER_CODE_0.0',\n",
       " 'OWNER_CODE_1.0',\n",
       " 'OWNER_CODE_2.0',\n",
       " 'OWNER_CODE_3.0',\n",
       " 'OWNER_CODE_4.0',\n",
       " 'OWNER_CODE_5.0',\n",
       " 'OWNER_CODE_6.0',\n",
       " 'OWNER_CODE_7.0',\n",
       " 'OWNER_CODE_8.0',\n",
       " 'OWNER_CODE_9.0',\n",
       " 'OWNER_CODE_10.0',\n",
       " 'OWNER_CODE_11.0',\n",
       " 'OWNER_CODE_12.0',\n",
       " 'OWNER_CODE_13.0',\n",
       " 'OWNER_CODE_14.0',\n",
       " 'OWNER_CODE_15.0',\n",
       " 'SOURCE_SYSTEM_TYPE_FED',\n",
       " 'SOURCE_SYSTEM_TYPE_INTERAGCY',\n",
       " 'SOURCE_SYSTEM_TYPE_NONFED']"
      ]
     },
     "execution_count": 23,
     "metadata": {},
     "output_type": "execute_result"
    }
   ],
   "source": [
    "final_estimator_XGB=pickle.load(open('final_estimator_XGB', 'rb'))\n",
    "cols_order = final_estimator_XGB.get_booster().feature_names\n",
    "cols_order"
   ]
  },
  {
   "cell_type": "code",
   "execution_count": 24,
   "metadata": {},
   "outputs": [],
   "source": [
    "#These columns aren't in xTest so we have to add them\n",
    "xTest_model[['NWCG_REPORTING_AGENCY_BOR', 'OWNER_CODE_0.0']]=0\n",
    "xTest_model=xTest_model[cols_order]"
   ]
  },
  {
   "cell_type": "code",
   "execution_count": 25,
   "metadata": {},
   "outputs": [
    {
     "name": "stdout",
     "output_type": "stream",
     "text": [
      "Test Accuracy: 57.66%\n"
     ]
    }
   ],
   "source": [
    "# Predict accuracy on the final test set\n",
    "yPred = final_estimator.predict(xTest_model) \n",
    "\n",
    "yPred = [round(value) for value in yPred]\n",
    "\n",
    "accuracy = accuracy_score(lc_yTest, yPred) \n",
    "\n",
    "print(\"Test Accuracy: %.2f%%\" % (accuracy * 100.0))"
   ]
  },
  {
   "cell_type": "code",
   "execution_count": 31,
   "metadata": {},
   "outputs": [
    {
     "data": {
      "text/plain": [
       "Text(0.5, 1.0, 'Variable Importance for XGBoost Classifier')"
      ]
     },
     "execution_count": 31,
     "metadata": {},
     "output_type": "execute_result"
    },
    {
     "data": {
      "image/png": "[encoded data removed]",
      "text/plain": [
       "<Figure size 864x576 with 1 Axes>"
      ]
     },
     "metadata": {
      "needs_background": "light"
     },
     "output_type": "display_data"
    }
   ],
   "source": [
    "plt.figure(figsize=(12,8))  \n",
    "plt.barh(cols_order, final_estimator.feature_importances_)\n",
    "plt.title('Variable Importance for XGBoost Classifier')"
   ]
  },
  {
   "cell_type": "code",
   "execution_count": 32,
   "metadata": {},
   "outputs": [
    {
     "data": {
      "text/plain": [
       "array(['Arson', 'Campfire', 'Children', 'Debris Burning', 'Equipment Use',\n",
       "       'Fireworks', 'Lightning', 'Powerline', 'Railroad', 'Smoking',\n",
       "       'Structure'], dtype=object)"
      ]
     },
     "execution_count": 32,
     "metadata": {},
     "output_type": "execute_result"
    }
   ],
   "source": [
    "lc.classes_"
   ]
  },
  {
   "cell_type": "code",
   "execution_count": 33,
   "metadata": {},
   "outputs": [
    {
     "name": "stdout",
     "output_type": "stream",
     "text": [
      "\n",
      "Classification Report\n",
      "\n",
      "                precision    recall  f1-score   support\n",
      "\n",
      "         Arson       0.59      0.56      0.57     28181\n",
      "      Campfire       0.46      0.49      0.47      7639\n",
      "      Children       0.26      0.25      0.26      6129\n",
      "Debris Burning       0.62      0.61      0.61     43137\n",
      " Equipment Use       0.45      0.40      0.42     14485\n",
      "     Fireworks       0.38      0.65      0.48      1138\n",
      "     Lightning       0.84      0.82      0.83     27540\n",
      "     Powerline       0.16      0.32      0.21      1409\n",
      "      Railroad       0.43      0.56      0.49      3228\n",
      "       Smoking       0.19      0.19      0.19      5290\n",
      "     Structure       0.07      0.18      0.10       400\n",
      "\n",
      "      accuracy                           0.58    138576\n",
      "     macro avg       0.40      0.46      0.42    138576\n",
      "  weighted avg       0.59      0.58      0.58    138576\n",
      "\n"
     ]
    }
   ],
   "source": [
    "from sklearn.metrics import classification_report\n",
    "print(\"\\nClassification Report\\n\")\n",
    "print(classification_report(lc_yTest, yPred, target_names = lc.classes_))"
   ]
  },
  {
   "cell_type": "code",
   "execution_count": null,
   "metadata": {},
   "outputs": [],
   "source": []
  }
 ],
 "metadata": {
  "kernelspec": {
   "display_name": "Python 3",
   "language": "python",
   "name": "python3"
  },
  "language_info": {
   "codemirror_mode": {
    "name": "ipython",
    "version": 3
   },
   "file_extension": ".py",
   "mimetype": "text/x-python",
   "name": "python",
   "nbconvert_exporter": "python",
   "pygments_lexer": "ipython3",
   "version": "3.8.5"
  }
 },
 "nbformat": 4,
 "nbformat_minor": 4
}
